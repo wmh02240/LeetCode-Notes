{
 "cells": [
  {
   "cell_type": "markdown",
   "metadata": {},
   "source": [
    "#### 题目描述\n",
    "\n",
    "城市E的马路上有很多路灯，每两个相邻路灯之间的间隔都是1公里。小赛是城市E的领导，为了使E城市更快更好的发展，需要在城市E的一段长度为M的主干道上的一些区域建地铁。这些区域要是建了地铁，就需要挪走相应的路灯。可以把长度为M的主干道看成一个数轴，一端在数轴0的位置，另一端在M的位置；数轴上的每个整数点都有一个路灯。要建地铁的这些区域可以用它们在数轴上的起始点和终止点表示，已知任一区域的起始点和终止点的坐标都是整数，区域之间可能有重合的部分。现在要把这些区域中的路灯（包括区域端点处的两个路灯）移走。你能帮助小赛计算一下，将这些路灯移走后，马路上还有多少路灯？\n",
    "\n",
    "\n",
    "输入\n",
    "输入文件的第一行有两个整数M（1 <= M <= 10000）和 N（1 <= N <= 100），M代表马路的长度，N代表区域的数目，M和N之间用一个空格隔开。接下来的N行每行包含两个不同的整数，用一个空格隔开，表示一个区域的起始点和终止点的坐标。\n",
    "\n",
    "所有输入都为整数。且M和N的范围为上面提示范围。\n",
    "\n",
    "样例输入\n",
    "500 3\n",
    "100 200\n",
    "150 300\n",
    "360 361\n",
    "\n",
    "输出\n",
    "输出文件包括一行，这一行只包含一个整数，表示马路上剩余路灯的数目。\n",
    "\n",
    "样例输出\n",
    "298\n",
    "\n",
    "时间限制\n",
    "C/C++语言：1000MS其它语言：3000MS\t\n",
    "内存限制\n",
    "C/C++语言：65536KB其它语言：589824KB"
   ]
  },
  {
   "cell_type": "markdown",
   "metadata": {},
   "source": [
    "#### 解题思路\n",
    "难点就在于每个区域在数轴上重合地方的表示，判断下一个区域开始点a与上一个区域结束点b的值大小。如果上一个区域结束点值大于下一个区域开始点值，忽略掉重复的路灯数量，m += r-b，否则m += a-b-1"
   ]
  },
  {
   "cell_type": "code",
   "execution_count": 2,
   "metadata": {},
   "outputs": [
    {
     "name": "stdin",
     "output_type": "stream",
     "text": [
      " 500 3   \n",
      " 100 200\n",
      " 150 300\n",
      " 360 361   \n"
     ]
    },
    {
     "name": "stdout",
     "output_type": "stream",
     "text": [
      "298\n"
     ]
    }
   ],
   "source": [
    "m, n = map(int, input().strip().split(\" \"))\n",
    "r = 0\n",
    "for i in range(n):\n",
    "    a,b = map(int, input().strip().split(\" \"))\n",
    "    if r > a: \n",
    "        m += r-b\n",
    "    else: \n",
    "        m += a-b-1\n",
    "    r = b\n",
    "print(m+1)"
   ]
  }
 ],
 "metadata": {
  "kernelspec": {
   "display_name": "Python 3.7.4 64-bit ('base': conda)",
   "language": "python",
   "name": "python37464bitbaseconda6107b79217b94e219b4f88edebad3871"
  },
  "language_info": {
   "codemirror_mode": {
    "name": "ipython",
    "version": 3
   },
   "file_extension": ".py",
   "mimetype": "text/x-python",
   "name": "python",
   "nbconvert_exporter": "python",
   "pygments_lexer": "ipython3",
   "version": "3.7.4"
  }
 },
 "nbformat": 4,
 "nbformat_minor": 4
}
