{
 "cells": [
  {
   "cell_type": "markdown",
   "metadata": {},
   "source": [
    "#### 题目描述\n",
    "兰博和提莫闲聊之后，回归到了他们的正题，约德尔人的未来。\n",
    "说起约德尔人的未来，黑默丁格曾经提出了一个约德尔测试，将约德尔人的历史的每个阶段都用一个字符表达出来。(包括可写字符,不包括空格。)。然后将这个字符串转化为一个01串。转化规则是如果这个字符如果是字母或者数字，这个字符变为1,其它变为0。然后将这个01串和黑默丁格观测星空得到的01串做比较，得到一个相似率。相似率越高,则约德尔的未来越光明。\n",
    "请问:相似率为多少？\n",
    "\n",
    "输入\n",
    "每组输入数据为两行，第一行为有关约德尔人历史的字符串，第二行是黑默丁格观测星空得到的字符串。(两个字符串的长度相等,字符串长度不小于1且不超过1000。)\n",
    "\n",
    "样例输入\n",
    "\n",
    "@!%12dgsa\n",
    "\n",
    "010111100\n",
    "\n",
    "输出\n",
    "输出一行，在这一行输出相似率。用百分数表示。(相似率为相同字符的个数/总个数,精确到百分号小数点后两位。printf(\"%%\");输出一个%。)\n",
    "\n",
    "样例输出\n",
    "66.67%\n",
    "\n",
    "时间限制\n",
    "C/C++语言：1000MS其它语言：3000MS\n",
    "\n",
    "内存限制\n",
    "C/C++语言：65536KB其它语言：589824KB"
   ]
  },
  {
   "cell_type": "markdown",
   "metadata": {},
   "source": [
    "#### 解题思路\n",
    "这道题比较简单，遍历对比即可，对于判断字符是否为字母或者数字可以使用python内置字符串函数str.isalnum()。\n",
    "\n",
    "##### string.isalnum()\t如果 string 至少有一个字符并且所有字符都是字母或数字则返回 True,否则返回False\n",
    "##### string.isalpha()\t如果 string 至少有一个字符并且所有字符都是字母则返回True,否则返回False\n",
    "##### string.isdecimal()\t如果 string 只包含十进制数字则返回 True 否则返回 False.\n",
    "##### string.isdigit()\t如果 string 只包含数字则返回 True 否则返回 False.\n",
    "##### string.islower()\t如果string中包含至少一个区分大小写的字符，并且所有这些(区分大小写的)字符都是小写，则返回True，否则返回False\n",
    "##### string.isnumeric()\t如果string中只包含数字字符，则返回True，否则返回False\n"
   ]
  },
  {
   "cell_type": "code",
   "execution_count": 17,
   "metadata": {},
   "outputs": [
    {
     "name": "stdin",
     "output_type": "stream",
     "text": [
      " @!%12dgsa\n",
      " 010111100\n"
     ]
    },
    {
     "name": "stdout",
     "output_type": "stream",
     "text": [
      "66.67%\n"
     ]
    }
   ],
   "source": [
    "lishi_char = input().strip()\n",
    "guance_str = input().strip()\n",
    "\n",
    "zhuanhuan_str = []\n",
    "for i in lishi_char:\n",
    "    if i.isalnum():\n",
    "        zhuanhuan_str.append('1')\n",
    "    else:\n",
    "        zhuanhuan_str.append('0')\n",
    "count = 0        \n",
    "if len(guance_str) == len(lishi_char):\n",
    "    for i in range(len(lishi_char)):\n",
    "        if zhuanhuan_str[i] == guance_str[i]:\n",
    "            count += 1\n",
    "print(\"%.2f%%\"%(count/len(guance_str)*100))\n",
    "            \n",
    "        "
   ]
  }
 ],
 "metadata": {
  "kernelspec": {
   "display_name": "Python 3.7.4 64-bit ('base': conda)",
   "language": "python",
   "name": "python37464bitbaseconda6107b79217b94e219b4f88edebad3871"
  },
  "language_info": {
   "codemirror_mode": {
    "name": "ipython",
    "version": 3
   },
   "file_extension": ".py",
   "mimetype": "text/x-python",
   "name": "python",
   "nbconvert_exporter": "python",
   "pygments_lexer": "ipython3",
   "version": "3.7.4"
  }
 },
 "nbformat": 4,
 "nbformat_minor": 4
}
