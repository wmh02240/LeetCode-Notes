{
 "cells": [
  {
   "cell_type": "markdown",
   "metadata": {},
   "source": [
    "#### 题目描述\n",
    "V先生有一天工作到很晚，回家的时候要穿过一条长l的笔直的街道，这条街道上有n个路灯。假设这条街起点为0，终点为l，第i个路灯坐标为ai。路灯发光能力以正数d来衡量，其中d表示路灯能够照亮的街道上的点与路灯的最远距离，所有路灯发光能力相同。为了让V先生看清回家的路，路灯必须照亮整条街道，又为了节省电力希望找到最小的d是多少？\n",
    "##### 输入\n",
    "输入两行数据，第一行是两个整数：路灯数目n (1≤n≤1000)，街道长度l (1 ≤l≤109)。第二行有n个整数ai (0 ≤ ai≤ l)，表示路灯坐标，多个路灯可以在同一个点，也可以安放在终点位置。\n",
    "##### 输出\n",
    "输出能够照亮整个街道的最小d，保留两位小数。\n",
    "\n",
    "样例输入\n",
    "7 15\n",
    "15 5 3 7 9 14 0\n",
    "\n",
    "样例输出\n",
    "2.50\n",
    "\n",
    "时间限制\n",
    "C/C++语言：1000MS其它语言：3000MS\t\n",
    "内存限制\n",
    "C/C++语言：65536KB其它语言：589824KB"
   ]
  },
  {
   "cell_type": "markdown",
   "metadata": {},
   "source": [
    "#### 解题思路：求有序列表中相邻两个元素之差的一半的最大值。细节问题是第一个与最后一个元素不在起点和终点位置，此时的最大值不要除2。"
   ]
  },
  {
   "cell_type": "code",
   "execution_count": 7,
   "metadata": {},
   "outputs": [
    {
     "name": "stdout",
     "output_type": "stream",
     "text": [
      "7 15\n",
      "15 5 3 7 9 14 0\n",
      "2.50\n"
     ]
    }
   ],
   "source": [
    "nums, l = list(map(int, input().strip().split(\" \"))) #输入路灯个数与道路长度\n",
    "arrress = list(map(int, input().strip().split(\" \")))  #输入路灯坐标\n",
    "sorted_address = sorted(arrress)\n",
    "dist = []\n",
    "for i in range(nums-1):\n",
    "    dst = sorted_address[i+1]-sorted_address[i]\n",
    "    dist.append(dst/2)\n",
    "dist.append(sorted_address[0])\n",
    "dist.append(l-sorted_address[-1])\n",
    "d = sorted(dist)[-1]\n",
    "print('%.2f'%d)"
   ]
  }
 ],
 "metadata": {
  "kernelspec": {
   "display_name": "Python 3.7.4 64-bit ('base': conda)",
   "language": "python",
   "name": "python37464bitbaseconda6107b79217b94e219b4f88edebad3871"
  },
  "language_info": {
   "codemirror_mode": {
    "name": "ipython",
    "version": 3
   },
   "file_extension": ".py",
   "mimetype": "text/x-python",
   "name": "python",
   "nbconvert_exporter": "python",
   "pygments_lexer": "ipython3",
   "version": "3.7.4"
  }
 },
 "nbformat": 4,
 "nbformat_minor": 4
}
