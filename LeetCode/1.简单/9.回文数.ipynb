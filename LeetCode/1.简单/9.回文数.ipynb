{
 "cells": [
  {
   "cell_type": "markdown",
   "metadata": {},
   "source": [
    "### 判断一个整数是否是回文数。回文数是指正序（从左向右）和倒序（从右向左）读都是一样的整数。\n",
    "\n",
    "示例 1:\n",
    "输入: 121\n",
    "输出: true\n",
    "    \n",
    "示例 2:\n",
    "输入: -121\n",
    "输出: false\n",
    "解释: 从左向右读, 为 -121 。 从右向左读, 为 121- 。因此它不是一个回文数。\n",
    "    \n",
    "示例 3:\n",
    "输入: 10\n",
    "输出: false\n",
    "解释: 从右向左读, 为 01 。因此它不是一个回文数。\n",
    "\n",
    "来源：力扣（LeetCode）\n",
    "链接：https://leetcode-cn.com/problems/palindrome-number\n",
    "著作权归领扣网络所有。商业转载请联系官方授权，非商业转载请注明出处。"
   ]
  },
  {
   "cell_type": "code",
   "execution_count": 5,
   "metadata": {},
   "outputs": [
    {
     "name": "stdout",
     "output_type": "stream",
     "text": [
      "请输入一个数字:1232\n",
      "False\n"
     ]
    }
   ],
   "source": [
    "class Solution():\n",
    "    def isPalindrome(self, x: int) -> bool:\n",
    "        x = str(x)\n",
    "        l = 0\n",
    "        r = len(x) - 1\n",
    "        while (l<r) :\n",
    "            if x[l] != x[r]:\n",
    "                return False\n",
    "            l += 1\n",
    "            r -= 1\n",
    "        return True\n",
    " \n",
    "x = input(\"请输入一个数字:\")\n",
    "out = Solution()\n",
    "print(out.isPalindrome(x))"
   ]
  },
  {
   "cell_type": "markdown",
   "metadata": {},
   "source": [
    "### 进阶:\n",
    "你能不将整数转为字符串来解决这个问题吗？"
   ]
  },
  {
   "cell_type": "code",
   "execution_count": 12,
   "metadata": {},
   "outputs": [
    {
     "name": "stdout",
     "output_type": "stream",
     "text": [
      "请输入一个数字:121\n",
      "True\n"
     ]
    }
   ],
   "source": [
    "class Solution():\n",
    "    def isPalindrome(self, x: int) -> bool:\n",
    "        temp = x\n",
    "        total = 0\n",
    "        while temp > 0:\n",
    "            total = total * 10 + temp % 10\n",
    "            temp //= 10\n",
    "        return total == x\n",
    "\n",
    "x = int(input(\"请输入一个数字:\"))\n",
    "out = Solution()\n",
    "print(out.isPalindrome(x))"
   ]
  }
 ],
 "metadata": {
  "kernelspec": {
   "display_name": "Python 3.7.4 64-bit ('base': conda)",
   "language": "python",
   "name": "python37464bitbaseconda6107b79217b94e219b4f88edebad3871"
  },
  "language_info": {
   "codemirror_mode": {
    "name": "ipython",
    "version": 3
   },
   "file_extension": ".py",
   "mimetype": "text/x-python",
   "name": "python",
   "nbconvert_exporter": "python",
   "pygments_lexer": "ipython3",
   "version": "3.7.4"
  }
 },
 "nbformat": 4,
 "nbformat_minor": 4
}
