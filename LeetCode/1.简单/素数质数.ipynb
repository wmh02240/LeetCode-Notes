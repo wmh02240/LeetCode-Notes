{
 "cells": [
  {
   "cell_type": "code",
   "execution_count": 2,
   "metadata": {},
   "outputs": [
    {
     "name": "stdout",
     "output_type": "stream",
     "text": [
      "请输入一个最大数字:21\n",
      "2  是质数\n",
      "3  是质数\n",
      "4 等于 2 * 2\n",
      "5  是质数\n",
      "6 等于 2 * 3\n",
      "7  是质数\n",
      "8 等于 2 * 4\n",
      "9 等于 3 * 3\n",
      "10 等于 2 * 5\n",
      "11  是质数\n",
      "12 等于 2 * 6\n",
      "13  是质数\n",
      "14 等于 2 * 7\n",
      "15 等于 3 * 5\n",
      "16 等于 2 * 8\n",
      "17  是质数\n",
      "18 等于 2 * 9\n",
      "19  是质数\n",
      "20 等于 2 * 10\n"
     ]
    }
   ],
   "source": [
    "# 判断一个数是否为素数，若是，则返回True，否则返回False\n",
    "\n",
    "def is_sushu(x):\n",
    "    for n in range(2, x):\n",
    "        for x in range(2, n):\n",
    "            if n % x == 0:\n",
    "                print(n, '等于', x, '*', n//x)\n",
    "                break\n",
    "        else:\n",
    "            # 循环中没有找到元素\n",
    "            print(n, ' 是质数')\n",
    "\n",
    "        \n",
    "x = int(input(\"请输入一个最大数字:\"))\n",
    "is_sushu(x)"
   ]
  },
  {
   "cell_type": "code",
   "execution_count": 3,
   "metadata": {},
   "outputs": [
    {
     "name": "stdout",
     "output_type": "stream",
     "text": [
      "最小值:2\n",
      "最大值:23\n",
      "2\n",
      "3\n",
      "5\n",
      "7\n",
      "11\n",
      "13\n",
      "17\n",
      "19\n",
      "23\n"
     ]
    }
   ],
   "source": [
    "#判断两个数之间的素数\n",
    "\n",
    "def is_sushu(min_num, max_num):\n",
    "    for i in range(min_num, max_num + 1):\n",
    "        flag = True \n",
    "        for j in range(2, i):\n",
    "            if (i % j == 0):\n",
    "                flag = False\n",
    "                break\n",
    "        if flag:\n",
    "            print(i)\n",
    "\n",
    "min_num = input(\"最小值:\")\n",
    "max_num = input(\"最大值:\")\n",
    "is_sushu(int(min_num), int(max_num))"
   ]
  }
 ],
 "metadata": {
  "kernelspec": {
   "display_name": "Python 3.7.4 64-bit ('base': conda)",
   "language": "python",
   "name": "python37464bitbaseconda6107b79217b94e219b4f88edebad3871"
  },
  "language_info": {
   "codemirror_mode": {
    "name": "ipython",
    "version": 3
   },
   "file_extension": ".py",
   "mimetype": "text/x-python",
   "name": "python",
   "nbconvert_exporter": "python",
   "pygments_lexer": "ipython3",
   "version": "3.7.4"
  }
 },
 "nbformat": 4,
 "nbformat_minor": 4
}
